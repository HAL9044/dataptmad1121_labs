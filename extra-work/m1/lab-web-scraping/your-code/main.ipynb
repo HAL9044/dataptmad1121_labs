{
 "cells": [
  {
   "cell_type": "markdown",
   "metadata": {},
   "source": [
    "# Web Scraping Lab\n",
    "\n",
    "You will find in this notebook some scrapy exercises to practise your scraping skills.\n",
    "\n",
    "**Tips:**\n",
    "\n",
    "- Check the response status code for each request to ensure you have obtained the intended content.\n",
    "- Print the response text in each request to understand the kind of info you are getting and its format.\n",
    "- Check for patterns in the response text to extract the data/info requested in each question.\n",
    "- Visit the urls below and take a look at their source code through Chrome DevTools. You'll need to identify the html tags, special class names, etc used in the html content you are expected to extract.\n",
    "\n",
    "**Resources**:\n",
    "- [Requests library](http://docs.python-requests.org/en/master/#the-user-guide)\n",
    "- [Beautiful Soup Doc](https://www.crummy.com/software/BeautifulSoup/bs4/doc/)\n",
    "- [Urllib](https://docs.python.org/3/library/urllib.html#module-urllib)\n",
    "- [re lib](https://docs.python.org/3/library/re.html)\n",
    "- [lxml lib](https://lxml.de/)\n",
    "- [Scrapy](https://scrapy.org/)\n",
    "- [List of HTTP status codes](https://en.wikipedia.org/wiki/List_of_HTTP_status_codes)\n",
    "- [HTML basics](http://www.simplehtmlguide.com/cheatsheet.php)\n",
    "- [CSS basics](https://www.cssbasics.com/#page_start)"
   ]
  },
  {
   "cell_type": "markdown",
   "metadata": {},
   "source": [
    "#### Below are the libraries and modules you may need. `requests`,  `BeautifulSoup` and `pandas` are already imported for you. If you prefer to use additional libraries feel free to do it."
   ]
  },
  {
   "cell_type": "code",
   "execution_count": 269,
   "metadata": {},
   "outputs": [],
   "source": [
    "import requests\n",
    "from bs4 import BeautifulSoup\n",
    "import pandas as pd\n",
    "import numpy as np\n",
    "import re\n",
    "import IPython.display as Disp"
   ]
  },
  {
   "cell_type": "markdown",
   "metadata": {},
   "source": [
    "#### Download, parse (using BeautifulSoup), and print the content from the Trending Developers page from GitHub:"
   ]
  },
  {
   "cell_type": "code",
   "execution_count": 100,
   "metadata": {},
   "outputs": [],
   "source": [
    "# This is the url you will scrape in this exercise\n",
    "url = 'https://github.com/trending/developers'\n",
    "html = requests.get(url).content\n",
    "soup = BeautifulSoup(html, \"html.parser\")"
   ]
  },
  {
   "cell_type": "code",
   "execution_count": 101,
   "metadata": {},
   "outputs": [
    {
     "data": {
      "text/plain": [
       "['LoveSy',\n",
       " 'Juliette',\n",
       " 'RangiLyu',\n",
       " 'PySimpleGUI',\n",
       " 'mattn',\n",
       " 'Jaco',\n",
       " 'Joe Block',\n",
       " 'Bo-Yi Wu',\n",
       " 'Avelino',\n",
       " 'Charles Kerr',\n",
       " 'Tom Payne',\n",
       " 'sickcodes',\n",
       " 'Andrew Arnott',\n",
       " 'William Boman',\n",
       " 'pajlada',\n",
       " 'James N',\n",
       " 'Hajime Hoshi',\n",
       " 'Dhaiwat Pandya',\n",
       " 'Shivam Mathur',\n",
       " 'Franck Nijhof',\n",
       " 'Tõnis Tiigi',\n",
       " 'Balázs Orbán',\n",
       " 'Claudio Jolowicz',\n",
       " 'CrazyMax',\n",
       " 'Bill']"
      ]
     },
     "execution_count": 101,
     "metadata": {},
     "output_type": "execute_result"
    }
   ],
   "source": [
    "# your code here\n",
    "\n",
    "x = soup.find_all('h1', class_ = \"h3 lh-condensed\")\n",
    "lst = []\n",
    "lst2 = []\n",
    "for i in range(0,len(x)):\n",
    "    aux = x[i]   \n",
    "    aux = str(aux).split(' ')\n",
    "    lst.append(aux[len(aux)-3].replace(\"\\n</a>\", \"\"))\n",
    "    lst.append(aux[len(aux)-2].replace(\"\\n</a>\", \"\"))\n",
    "    \n",
    "for j in range(0,len(lst),2):\n",
    "    if lst[j] == \"\":\n",
    "        lst2.append(lst[j+1])\n",
    "    else:\n",
    "        lst2.append(lst[j] + \" \" + lst[j+1])\n",
    "        \n",
    "#I'd love to explain how this code works but I don't even know whats going on myself so..., but it does work!\n",
    "\n",
    "    \n",
    "    \n",
    "lst2"
   ]
  },
  {
   "cell_type": "markdown",
   "metadata": {},
   "source": [
    "#### Display the names of the trending developers retrieved in the previous step.\n",
    "\n",
    "Your output should be a Python list of developer names. Each name should not contain any html tag.\n",
    "\n",
    "**Instructions:**\n",
    "\n",
    "1. Find out the html tag and class names used for the developer names. You can achieve this using Chrome DevTools.\n",
    "\n",
    "1. Use BeautifulSoup to extract all the html elements that contain the developer names.\n",
    "\n",
    "1. Use string manipulation techniques to replace whitespaces and linebreaks (i.e. `\\n`) in the *text* of each html element. Use a list to store the clean names.\n",
    "\n",
    "1. Print the list of names.\n",
    "\n",
    "Your output should look like below:\n",
    "\n",
    "```\n",
    "['trimstray (@trimstray)',\n",
    " 'joewalnes (JoeWalnes)',\n",
    " 'charlax (Charles-AxelDein)',\n",
    " 'ForrestKnight (ForrestKnight)',\n",
    " 'revery-ui (revery-ui)',\n",
    " 'alibaba (Alibaba)',\n",
    " 'Microsoft (Microsoft)',\n",
    " 'github (GitHub)',\n",
    " 'facebook (Facebook)',\n",
    " 'boazsegev (Bo)',\n",
    " 'google (Google)',\n",
    " 'cloudfetch',\n",
    " 'sindresorhus (SindreSorhus)',\n",
    " 'tensorflow',\n",
    " 'apache (TheApacheSoftwareFoundation)',\n",
    " 'DevonCrawford (DevonCrawford)',\n",
    " 'ARMmbed (ArmMbed)',\n",
    " 'vuejs (vuejs)',\n",
    " 'fastai (fast.ai)',\n",
    " 'QiShaoXuan (Qi)',\n",
    " 'joelparkerhenderson (JoelParkerHenderson)',\n",
    " 'torvalds (LinusTorvalds)',\n",
    " 'CyC2018',\n",
    " 'komeiji-satori (神楽坂覚々)',\n",
    " 'script-8']\n",
    " ```"
   ]
  },
  {
   "cell_type": "code",
   "execution_count": null,
   "metadata": {},
   "outputs": [],
   "source": [
    "# your code here"
   ]
  },
  {
   "cell_type": "markdown",
   "metadata": {},
   "source": [
    "#### Display the trending Python repositories in GitHub.\n",
    "\n",
    "The steps to solve this problem is similar to the previous one except that you need to find out the repository names instead of developer names."
   ]
  },
  {
   "cell_type": "code",
   "execution_count": 106,
   "metadata": {},
   "outputs": [],
   "source": [
    "# This is the url you will scrape in this exercise\n",
    "url = 'https://github.com/trending/python?since=daily'\n",
    "html = requests.get(url).content\n",
    "soup = BeautifulSoup(html, \"html.parser\")"
   ]
  },
  {
   "cell_type": "code",
   "execution_count": 109,
   "metadata": {},
   "outputs": [
    {
     "data": {
      "text/plain": [
       "['bombcrypto-bot',\n",
       " 'system-design-primer',\n",
       " 'light-show',\n",
       " 'python-cheatsheet',\n",
       " 'devops-exercises',\n",
       " 'dirsearch',\n",
       " 'sherlock',\n",
       " 'YouTube-Spammer-Purge',\n",
       " 'jesse',\n",
       " 'Python',\n",
       " 'MusicPlayer',\n",
       " 'SLIP',\n",
       " 'ddia',\n",
       " 'catuserbot',\n",
       " 'svox2',\n",
       " 'pyodide',\n",
       " 'openpilot',\n",
       " 'nanodet',\n",
       " 'yt-dlp',\n",
       " 'terminal-christmas-tree',\n",
       " 'mirror-leech-telegram-bot',\n",
       " 'log4jminecraft',\n",
       " 'WV-AMZN-4K-RIPPER',\n",
       " 'core',\n",
       " 'mypy']"
      ]
     },
     "execution_count": 109,
     "metadata": {},
     "output_type": "execute_result"
    }
   ],
   "source": [
    "# your code here\n",
    "\n",
    "lst = []\n",
    "lst2 = []\n",
    "for i in range(0,len(x)):\n",
    "    aux = x[i]   \n",
    "    aux = str(aux).split(' ')\n",
    "    lst.append(aux[len(aux)-3].replace(\"\\n</a>\", \"\"))\n",
    "    lst.append(aux[len(aux)-2].replace(\"\\n</a>\", \"\"))\n",
    "    \n",
    "for j in range(0,len(lst),2):\n",
    "    if lst[j] == \"\":\n",
    "        lst2.append(lst[j+1])\n",
    "    else:\n",
    "        lst2.append(lst[j] + \" \" + lst[j+1])\n",
    "        \n",
    "#Literally just copy-pasted last cell's code. Seems like this works pretty decently for this kind of thing! yay!\n",
    "        \n",
    "lst2\n"
   ]
  },
  {
   "cell_type": "markdown",
   "metadata": {},
   "source": [
    "#### Display all the image links from Walt Disney wikipedia page."
   ]
  },
  {
   "cell_type": "code",
   "execution_count": 236,
   "metadata": {},
   "outputs": [],
   "source": [
    "# This is the url you will scrape in this exercise\n",
    "url = 'https://en.wikipedia.org/wiki/Walt_Disney'\n",
    "html = requests.get(url).content\n",
    "soup = BeautifulSoup(html, \"html.parser\")\n",
    "x = soup.find_all('a', class_ = \"image\")"
   ]
  },
  {
   "cell_type": "code",
   "execution_count": 238,
   "metadata": {},
   "outputs": [
    {
     "data": {
      "image/jpeg": "[encoded data removed]",
      "text/plain": [
       "<IPython.core.display.Image object>"
      ]
     },
     "execution_count": 238,
     "metadata": {},
     "output_type": "execute_result"
    }
   ],
   "source": [
    "# your code here\n",
    "\n",
    "lst = []\n",
    "for i in range(len(x)-8):\n",
    "    z = ((str(x[i]).split(\"src=\")[1].split(\"srcset=\"))[0])\n",
    "    z = z.replace('\"', \"\")\n",
    "    z = z.replace(\" \", \"\")\n",
    "    lst.append(\"http:\" + z)\n",
    "\n",
    "Disp.Image(requests.get(lst[8]).content) #changing index will give you the image in order of appereance in the web\n"
   ]
  },
  {
   "cell_type": "code",
   "execution_count": 202,
   "metadata": {},
   "outputs": [
    {
     "data": {
      "text/plain": [
       "['http://upload.wikimedia.org/wikipedia/commons/thumb/d/df/Walt_Disney_1946.JPG/220px-Walt_Disney_1946.JPG',\n",
       " 'http://upload.wikimedia.org/wikipedia/commons/thumb/8/87/Walt_Disney_1942_signature.svg/150px-Walt_Disney_1942_signature.svg.png',\n",
       " 'http://upload.wikimedia.org/wikipedia/commons/thumb/c/c4/Walt_Disney_envelope_ca._1921.jpg/220px-Walt_Disney_envelope_ca._1921.jpg',\n",
       " 'http://upload.wikimedia.org/wikipedia/commons/thumb/0/0d/Trolley_Troubles_poster.jpg/170px-Trolley_Troubles_poster.jpg',\n",
       " 'http://upload.wikimedia.org/wikipedia/en/thumb/4/4e/Steamboat-willie.jpg/170px-Steamboat-willie.jpg',\n",
       " 'http://upload.wikimedia.org/wikipedia/commons/thumb/5/57/Walt_Disney_1935.jpg/170px-Walt_Disney_1935.jpg',\n",
       " 'http://upload.wikimedia.org/wikipedia/commons/thumb/c/cd/Walt_Disney_Snow_white_1937_trailer_screenshot_%2813%29.jpg/220px-Walt_Disney_Snow_white_1937_trailer_screenshot_%2813%29.jpg',\n",
       " 'http://upload.wikimedia.org/wikipedia/commons/thumb/1/15/Disney_drawing_goofy.jpg/170px-Disney_drawing_goofy.jpg',\n",
       " 'http://upload.wikimedia.org/wikipedia/commons/thumb/1/13/DisneySchiphol1951.jpg/220px-DisneySchiphol1951.jpg',\n",
       " 'http://upload.wikimedia.org/wikipedia/commons/thumb/8/8c/WaltDisneyplansDisneylandDec1954.jpg/220px-WaltDisneyplansDisneylandDec1954.jpg',\n",
       " 'http://upload.wikimedia.org/wikipedia/commons/thumb/f/ff/Walt_disney_portrait_right.jpg/170px-Walt_disney_portrait_right.jpg',\n",
       " 'http://upload.wikimedia.org/wikipedia/commons/thumb/1/1a/Walt_Disney_Grave.JPG/170px-Walt_Disney_Grave.JPG',\n",
       " 'http://upload.wikimedia.org/wikipedia/commons/thumb/2/2d/Roy_O._Disney_with_Company_at_Press_Conference.jpg/170px-Roy_O._Disney_with_Company_at_Press_Conference.jpg',\n",
       " 'http://upload.wikimedia.org/wikipedia/commons/thumb/b/b0/Disney_Oscar_1953_%28cropped%29.jpg/170px-Disney_Oscar_1953_%28cropped%29.jpg',\n",
       " 'http://upload.wikimedia.org/wikipedia/commons/thumb/6/6c/Disney1968.jpg/170px-Disney1968.jpg']"
      ]
     },
     "execution_count": 202,
     "metadata": {},
     "output_type": "execute_result"
    }
   ],
   "source": [
    "lst"
   ]
  },
  {
   "cell_type": "markdown",
   "metadata": {},
   "source": [
    "#### Retrieve an arbitary Wikipedia page of \"Python\" and create a list of links on that page."
   ]
  },
  {
   "cell_type": "code",
   "execution_count": 232,
   "metadata": {},
   "outputs": [],
   "source": [
    "# This is the url you will scrape in this exercise\n",
    "url ='https://en.wikipedia.org/wiki/Python_(Ford_prototype)' \n",
    "html = requests.get(url).content\n",
    "soup = BeautifulSoup(html, \"html.parser\")"
   ]
  },
  {
   "cell_type": "code",
   "execution_count": 231,
   "metadata": {},
   "outputs": [],
   "source": [
    "# your code here\n"
   ]
  },
  {
   "cell_type": "markdown",
   "metadata": {},
   "source": [
    "#### Find the number of titles that have changed in the United States Code since its last release point."
   ]
  },
  {
   "cell_type": "code",
   "execution_count": 240,
   "metadata": {},
   "outputs": [],
   "source": [
    "\n",
    "url = 'http://uscode.house.gov/download/download.shtml'\n",
    "html = requests.get(url).content\n",
    "soup = BeautifulSoup(html, \"html.parser\")\n",
    "\n",
    "# Titles in bold have been changed since the last release point. \n",
    "# Is this just about finding which titles are in bold? So it would be just to write a programthat tells how many \n",
    "#titles in bold are there. "
   ]
  },
  {
   "cell_type": "code",
   "execution_count": 249,
   "metadata": {},
   "outputs": [
    {
     "name": "stdout",
     "output_type": "stream",
     "text": [
      "1\n"
     ]
    }
   ],
   "source": [
    "x = soup.find_all('div', class_ = \"usctitlechanged\")\n",
    "print(len(x))\n",
    "\n",
    "#running this code will literally only give you the \"usctitlechanged\" tag, which entails a change in the title\n",
    "#since last release. In this case, 1. As it can be seen in the web page. "
   ]
  },
  {
   "cell_type": "markdown",
   "metadata": {},
   "source": [
    "#### Find a Python list with the top ten FBI's Most Wanted names."
   ]
  },
  {
   "cell_type": "code",
   "execution_count": 252,
   "metadata": {},
   "outputs": [],
   "source": [
    "# This is the url you will scrape in this exercise\n",
    "url = 'https://www.fbi.gov/wanted/topten'\n",
    "html = requests.get(url).content\n",
    "soup = BeautifulSoup(html, \"html.parser\")\n"
   ]
  },
  {
   "cell_type": "code",
   "execution_count": 268,
   "metadata": {},
   "outputs": [
    {
     "data": {
      "text/plain": [
       "['ARNOLDO JIMENEZ',\n",
       " 'JASON DEREK BROWN',\n",
       " 'ALEXIS FLORES',\n",
       " 'JOSE RODOLFO VILLARREAL-HERNANDEZ',\n",
       " 'OCTAVIANO JUAREZ-CORRO',\n",
       " 'RAFAEL CARO-QUINTERO',\n",
       " 'YULAN ADONAY ARCHAGA CARIAS',\n",
       " 'EUGENE PALMER',\n",
       " 'BHADRESHKUMAR CHETANBHAI PATEL',\n",
       " 'ALEJANDRO ROSALES CASTILLO']"
      ]
     },
     "execution_count": 268,
     "metadata": {},
     "output_type": "execute_result"
    }
   ],
   "source": [
    "# your code here\n",
    "x = soup.find_all('h3', class_ = \"title\")\n",
    "lst = []\n",
    "for i in range (len(x)):\n",
    "    y = str(x[i]).split(\">\")\n",
    "    lst.append(y[len(y)-3].replace(\"</a\", \"\"))\n",
    "    \n",
    "lst"
   ]
  },
  {
   "cell_type": "markdown",
   "metadata": {},
   "source": [
    "####  Display the 20 latest earthquakes info (date, time, latitude, longitude and region name) by the EMSC as a pandas dataframe."
   ]
  },
  {
   "cell_type": "code",
   "execution_count": 437,
   "metadata": {},
   "outputs": [],
   "source": [
    "# This is the url you will scrape in this exercise\n",
    "url = 'https://www.emsc-csem.org/Earthquake/'\n",
    "html = requests.get(url).content\n",
    "soup = BeautifulSoup(html, \"html.parser\")"
   ]
  },
  {
   "cell_type": "code",
   "execution_count": 438,
   "metadata": {},
   "outputs": [
    {
     "data": {
      "text/html": [
       "<div>\n",
       "<style scoped>\n",
       "    .dataframe tbody tr th:only-of-type {\n",
       "        vertical-align: middle;\n",
       "    }\n",
       "\n",
       "    .dataframe tbody tr th {\n",
       "        vertical-align: top;\n",
       "    }\n",
       "\n",
       "    .dataframe thead th {\n",
       "        text-align: right;\n",
       "    }\n",
       "</style>\n",
       "<table border=\"1\" class=\"dataframe\">\n",
       "  <thead>\n",
       "    <tr style=\"text-align: right;\">\n",
       "      <th></th>\n",
       "      <th>Region</th>\n",
       "      <th>Date-Time</th>\n",
       "      <th>Latitude</th>\n",
       "      <th>Longitude</th>\n",
       "    </tr>\n",
       "  </thead>\n",
       "  <tbody>\n",
       "    <tr>\n",
       "      <th>0</th>\n",
       "      <td>CENTRAL CALIFORNIA</td>\n",
       "      <td>2021-12-26 16:40:13.1</td>\n",
       "      <td>37.40N</td>\n",
       "      <td>119.62W</td>\n",
       "    </tr>\n",
       "    <tr>\n",
       "      <th>1</th>\n",
       "      <td>CENTRAL CALIFORNIA</td>\n",
       "      <td>2021-12-26 16:38:12.6</td>\n",
       "      <td>37.56N</td>\n",
       "      <td>119.14W</td>\n",
       "    </tr>\n",
       "    <tr>\n",
       "      <th>2</th>\n",
       "      <td>CRETE, GREECE</td>\n",
       "      <td>2021-12-26 16:26:46.0</td>\n",
       "      <td>35.07N</td>\n",
       "      <td>26.94E</td>\n",
       "    </tr>\n",
       "    <tr>\n",
       "      <th>3</th>\n",
       "      <td>ANTOFAGASTA, CHILE</td>\n",
       "      <td>2021-12-26 16:24:21.0</td>\n",
       "      <td>21.22S</td>\n",
       "      <td>68.76W</td>\n",
       "    </tr>\n",
       "    <tr>\n",
       "      <th>4</th>\n",
       "      <td>SOUTHWESTERN RYUKYU ISL., JAPAN</td>\n",
       "      <td>2021-12-26 16:18:30.0</td>\n",
       "      <td>25.10N</td>\n",
       "      <td>125.60E</td>\n",
       "    </tr>\n",
       "    <tr>\n",
       "      <th>5</th>\n",
       "      <td>GREECE</td>\n",
       "      <td>2021-12-26 16:13:52.1</td>\n",
       "      <td>38.12N</td>\n",
       "      <td>23.16E</td>\n",
       "    </tr>\n",
       "    <tr>\n",
       "      <th>6</th>\n",
       "      <td>SUMBAWA REGION, INDONESIA</td>\n",
       "      <td>2021-12-26 16:10:05.4</td>\n",
       "      <td>8.68S</td>\n",
       "      <td>118.32E</td>\n",
       "    </tr>\n",
       "    <tr>\n",
       "      <th>7</th>\n",
       "      <td>MINDORO, PHILIPPINES</td>\n",
       "      <td>2021-12-26 16:06:42.0</td>\n",
       "      <td>12.56N</td>\n",
       "      <td>120.52E</td>\n",
       "    </tr>\n",
       "    <tr>\n",
       "      <th>8</th>\n",
       "      <td>GUATEMALA</td>\n",
       "      <td>2021-12-26 16:06:25.3</td>\n",
       "      <td>14.28N</td>\n",
       "      <td>91.29W</td>\n",
       "    </tr>\n",
       "    <tr>\n",
       "      <th>9</th>\n",
       "      <td>CRETE, GREECE</td>\n",
       "      <td>2021-12-26 16:00:18.3</td>\n",
       "      <td>35.14N</td>\n",
       "      <td>26.92E</td>\n",
       "    </tr>\n",
       "    <tr>\n",
       "      <th>10</th>\n",
       "      <td>SOUTH ISLAND OF NEW ZEALAND</td>\n",
       "      <td>2021-12-26 15:52:33.4</td>\n",
       "      <td>42.18S</td>\n",
       "      <td>171.59E</td>\n",
       "    </tr>\n",
       "    <tr>\n",
       "      <th>11</th>\n",
       "      <td>WEST OF GIBRALTAR</td>\n",
       "      <td>2021-12-26 15:49:35.0</td>\n",
       "      <td>36.30N</td>\n",
       "      <td>8.15W</td>\n",
       "    </tr>\n",
       "    <tr>\n",
       "      <th>12</th>\n",
       "      <td>SOUTHERN ALASKA</td>\n",
       "      <td>2021-12-26 15:48:51.1</td>\n",
       "      <td>61.34N</td>\n",
       "      <td>150.75W</td>\n",
       "    </tr>\n",
       "    <tr>\n",
       "      <th>13</th>\n",
       "      <td>FIJI REGION</td>\n",
       "      <td>2021-12-26 15:42:55.6</td>\n",
       "      <td>18.12S</td>\n",
       "      <td>179.32W</td>\n",
       "    </tr>\n",
       "    <tr>\n",
       "      <th>14</th>\n",
       "      <td>ISLAND OF HAWAII, HAWAII</td>\n",
       "      <td>2021-12-26 15:30:36.8</td>\n",
       "      <td>19.17N</td>\n",
       "      <td>155.47W</td>\n",
       "    </tr>\n",
       "    <tr>\n",
       "      <th>15</th>\n",
       "      <td>CANARY ISLANDS, SPAIN REGION</td>\n",
       "      <td>2021-12-26 15:29:01.1</td>\n",
       "      <td>28.56N</td>\n",
       "      <td>17.84W</td>\n",
       "    </tr>\n",
       "    <tr>\n",
       "      <th>16</th>\n",
       "      <td>ICELAND REGION</td>\n",
       "      <td>2021-12-26 15:25:18.0</td>\n",
       "      <td>63.93N</td>\n",
       "      <td>22.09W</td>\n",
       "    </tr>\n",
       "    <tr>\n",
       "      <th>17</th>\n",
       "      <td>GREECE</td>\n",
       "      <td>2021-12-26 15:17:56.5</td>\n",
       "      <td>38.17N</td>\n",
       "      <td>22.69E</td>\n",
       "    </tr>\n",
       "    <tr>\n",
       "      <th>18</th>\n",
       "      <td>CRETE, GREECE</td>\n",
       "      <td>2021-12-26 15:15:11.5</td>\n",
       "      <td>34.95N</td>\n",
       "      <td>26.85E</td>\n",
       "    </tr>\n",
       "    <tr>\n",
       "      <th>19</th>\n",
       "      <td>CANARY ISLANDS, SPAIN REGION</td>\n",
       "      <td>2021-12-26 15:12:24.9</td>\n",
       "      <td>28.57N</td>\n",
       "      <td>17.84W</td>\n",
       "    </tr>\n",
       "    <tr>\n",
       "      <th>20</th>\n",
       "      <td>WESTERN TURKEY</td>\n",
       "      <td>2021-12-26 15:10:15.8</td>\n",
       "      <td>38.21N</td>\n",
       "      <td>27.27E</td>\n",
       "    </tr>\n",
       "    <tr>\n",
       "      <th>21</th>\n",
       "      <td>MINAHASA, SULAWESI, INDONESIA</td>\n",
       "      <td>2021-12-26 15:01:31.1</td>\n",
       "      <td>0.07N</td>\n",
       "      <td>123.43E</td>\n",
       "    </tr>\n",
       "    <tr>\n",
       "      <th>22</th>\n",
       "      <td>DOMINICAN REPUBLIC</td>\n",
       "      <td>2021-12-26 14:55:02.0</td>\n",
       "      <td>18.14N</td>\n",
       "      <td>71.50W</td>\n",
       "    </tr>\n",
       "    <tr>\n",
       "      <th>23</th>\n",
       "      <td>DOMINICAN REPUBLIC</td>\n",
       "      <td>2021-12-26 14:50:55.0</td>\n",
       "      <td>18.13N</td>\n",
       "      <td>71.48W</td>\n",
       "    </tr>\n",
       "    <tr>\n",
       "      <th>24</th>\n",
       "      <td>COQUIMBO, CHILE</td>\n",
       "      <td>2021-12-26 14:43:05.0</td>\n",
       "      <td>29.52S</td>\n",
       "      <td>71.24W</td>\n",
       "    </tr>\n",
       "    <tr>\n",
       "      <th>25</th>\n",
       "      <td>CENTRAL TURKEY</td>\n",
       "      <td>2021-12-26 14:42:23.0</td>\n",
       "      <td>37.56N</td>\n",
       "      <td>34.92E</td>\n",
       "    </tr>\n",
       "    <tr>\n",
       "      <th>26</th>\n",
       "      <td>NEAR COAST OF NICARAGUA</td>\n",
       "      <td>2021-12-26 14:26:36.0</td>\n",
       "      <td>12.29N</td>\n",
       "      <td>87.55W</td>\n",
       "    </tr>\n",
       "    <tr>\n",
       "      <th>27</th>\n",
       "      <td>OFFSHORE NORTHERN CALIFORNIA</td>\n",
       "      <td>2021-12-26 14:16:49.4</td>\n",
       "      <td>40.33N</td>\n",
       "      <td>124.97W</td>\n",
       "    </tr>\n",
       "    <tr>\n",
       "      <th>28</th>\n",
       "      <td>SOUTH OF JAVA, INDONESIA</td>\n",
       "      <td>2021-12-26 14:14:57.0</td>\n",
       "      <td>9.11S</td>\n",
       "      <td>112.05E</td>\n",
       "    </tr>\n",
       "    <tr>\n",
       "      <th>29</th>\n",
       "      <td>CENTRAL CALIFORNIA</td>\n",
       "      <td>2021-12-26 14:09:50.6</td>\n",
       "      <td>36.50N</td>\n",
       "      <td>120.47W</td>\n",
       "    </tr>\n",
       "    <tr>\n",
       "      <th>30</th>\n",
       "      <td>CENTRAL ITALY</td>\n",
       "      <td>2021-12-26 14:09:38.3</td>\n",
       "      <td>43.09N</td>\n",
       "      <td>13.34E</td>\n",
       "    </tr>\n",
       "    <tr>\n",
       "      <th>31</th>\n",
       "      <td>SOUTHERN SUMATRA, INDONESIA</td>\n",
       "      <td>2021-12-26 14:09:13.8</td>\n",
       "      <td>4.53S</td>\n",
       "      <td>102.05E</td>\n",
       "    </tr>\n",
       "    <tr>\n",
       "      <th>32</th>\n",
       "      <td>OFFSHORE ANTOFAGASTA, CHILE</td>\n",
       "      <td>2021-12-26 14:01:01.0</td>\n",
       "      <td>21.24S</td>\n",
       "      <td>70.39W</td>\n",
       "    </tr>\n",
       "    <tr>\n",
       "      <th>33</th>\n",
       "      <td>WESTERN TEXAS</td>\n",
       "      <td>2021-12-26 13:58:29.8</td>\n",
       "      <td>31.72N</td>\n",
       "      <td>104.57W</td>\n",
       "    </tr>\n",
       "    <tr>\n",
       "      <th>34</th>\n",
       "      <td>ANTOFAGASTA, CHILE</td>\n",
       "      <td>2021-12-26 13:42:20.0</td>\n",
       "      <td>23.86S</td>\n",
       "      <td>67.33W</td>\n",
       "    </tr>\n",
       "    <tr>\n",
       "      <th>35</th>\n",
       "      <td>BONIN ISLANDS, JAPAN REGION</td>\n",
       "      <td>2021-12-26 13:41:00.7</td>\n",
       "      <td>28.01N</td>\n",
       "      <td>141.50E</td>\n",
       "    </tr>\n",
       "    <tr>\n",
       "      <th>36</th>\n",
       "      <td>NEAR COAST OF NORTHERN PERU</td>\n",
       "      <td>2021-12-26 13:35:22.0</td>\n",
       "      <td>7.55S</td>\n",
       "      <td>79.74W</td>\n",
       "    </tr>\n",
       "    <tr>\n",
       "      <th>37</th>\n",
       "      <td>HIMACHAL PRADESH, INDIA</td>\n",
       "      <td>2021-12-26 13:20:53.0</td>\n",
       "      <td>32.03N</td>\n",
       "      <td>76.84E</td>\n",
       "    </tr>\n",
       "    <tr>\n",
       "      <th>38</th>\n",
       "      <td>NEAR COAST OF NICARAGUA</td>\n",
       "      <td>2021-12-26 13:12:10.0</td>\n",
       "      <td>12.60N</td>\n",
       "      <td>88.03W</td>\n",
       "    </tr>\n",
       "    <tr>\n",
       "      <th>39</th>\n",
       "      <td>PUERTO RICO</td>\n",
       "      <td>2021-12-26 12:51:43.6</td>\n",
       "      <td>17.99N</td>\n",
       "      <td>66.82W</td>\n",
       "    </tr>\n",
       "    <tr>\n",
       "      <th>40</th>\n",
       "      <td>GULF OF CALIFORNIA</td>\n",
       "      <td>2021-12-26 12:51:14.0</td>\n",
       "      <td>29.98N</td>\n",
       "      <td>113.58W</td>\n",
       "    </tr>\n",
       "    <tr>\n",
       "      <th>41</th>\n",
       "      <td>FRANCE</td>\n",
       "      <td>2021-12-26 12:32:27.2</td>\n",
       "      <td>46.21N</td>\n",
       "      <td>6.72E</td>\n",
       "    </tr>\n",
       "    <tr>\n",
       "      <th>42</th>\n",
       "      <td>BIO-BIO, CHILE</td>\n",
       "      <td>2021-12-26 12:25:33.0</td>\n",
       "      <td>38.15S</td>\n",
       "      <td>73.44W</td>\n",
       "    </tr>\n",
       "    <tr>\n",
       "      <th>43</th>\n",
       "      <td>NEAR COAST OF NICARAGUA</td>\n",
       "      <td>2021-12-26 12:16:48.0</td>\n",
       "      <td>11.74N</td>\n",
       "      <td>87.05W</td>\n",
       "    </tr>\n",
       "    <tr>\n",
       "      <th>44</th>\n",
       "      <td>NEAR EAST COAST OF KAMCHATKA</td>\n",
       "      <td>2021-12-26 12:09:56.6</td>\n",
       "      <td>55.53N</td>\n",
       "      <td>161.67E</td>\n",
       "    </tr>\n",
       "    <tr>\n",
       "      <th>45</th>\n",
       "      <td>ISLAND OF HAWAII, HAWAII</td>\n",
       "      <td>2021-12-26 12:04:49.4</td>\n",
       "      <td>19.21N</td>\n",
       "      <td>155.41W</td>\n",
       "    </tr>\n",
       "    <tr>\n",
       "      <th>46</th>\n",
       "      <td>SERAM, INDONESIA</td>\n",
       "      <td>2021-12-26 11:35:09.0</td>\n",
       "      <td>2.67S</td>\n",
       "      <td>129.44E</td>\n",
       "    </tr>\n",
       "    <tr>\n",
       "      <th>47</th>\n",
       "      <td>FLORES REGION, INDONESIA</td>\n",
       "      <td>2021-12-26 11:25:38.0</td>\n",
       "      <td>8.99S</td>\n",
       "      <td>123.96E</td>\n",
       "    </tr>\n",
       "    <tr>\n",
       "      <th>48</th>\n",
       "      <td>SERAM, INDONESIA</td>\n",
       "      <td>2021-12-26 11:11:42.0</td>\n",
       "      <td>2.66S</td>\n",
       "      <td>129.42E</td>\n",
       "    </tr>\n",
       "    <tr>\n",
       "      <th>49</th>\n",
       "      <td>ISLAND OF HAWAII, HAWAII</td>\n",
       "      <td>2021-12-26 11:00:54.6</td>\n",
       "      <td>19.25N</td>\n",
       "      <td>155.41W</td>\n",
       "    </tr>\n",
       "  </tbody>\n",
       "</table>\n",
       "</div>"
      ],
      "text/plain": [
       "                             Region              Date-Time Latitude Longitude\n",
       "0                CENTRAL CALIFORNIA  2021-12-26 16:40:13.1   37.40N   119.62W\n",
       "1                CENTRAL CALIFORNIA  2021-12-26 16:38:12.6   37.56N   119.14W\n",
       "2                     CRETE, GREECE  2021-12-26 16:26:46.0   35.07N    26.94E\n",
       "3                ANTOFAGASTA, CHILE  2021-12-26 16:24:21.0   21.22S    68.76W\n",
       "4   SOUTHWESTERN RYUKYU ISL., JAPAN  2021-12-26 16:18:30.0   25.10N   125.60E\n",
       "5                            GREECE  2021-12-26 16:13:52.1   38.12N    23.16E\n",
       "6         SUMBAWA REGION, INDONESIA  2021-12-26 16:10:05.4    8.68S   118.32E\n",
       "7              MINDORO, PHILIPPINES  2021-12-26 16:06:42.0   12.56N   120.52E\n",
       "8                         GUATEMALA  2021-12-26 16:06:25.3   14.28N    91.29W\n",
       "9                     CRETE, GREECE  2021-12-26 16:00:18.3   35.14N    26.92E\n",
       "10      SOUTH ISLAND OF NEW ZEALAND  2021-12-26 15:52:33.4   42.18S   171.59E\n",
       "11                WEST OF GIBRALTAR  2021-12-26 15:49:35.0   36.30N     8.15W\n",
       "12                  SOUTHERN ALASKA  2021-12-26 15:48:51.1   61.34N   150.75W\n",
       "13                      FIJI REGION  2021-12-26 15:42:55.6   18.12S   179.32W\n",
       "14         ISLAND OF HAWAII, HAWAII  2021-12-26 15:30:36.8   19.17N   155.47W\n",
       "15     CANARY ISLANDS, SPAIN REGION  2021-12-26 15:29:01.1   28.56N    17.84W\n",
       "16                   ICELAND REGION  2021-12-26 15:25:18.0   63.93N    22.09W\n",
       "17                           GREECE  2021-12-26 15:17:56.5   38.17N    22.69E\n",
       "18                    CRETE, GREECE  2021-12-26 15:15:11.5   34.95N    26.85E\n",
       "19     CANARY ISLANDS, SPAIN REGION  2021-12-26 15:12:24.9   28.57N    17.84W\n",
       "20                   WESTERN TURKEY  2021-12-26 15:10:15.8   38.21N    27.27E\n",
       "21    MINAHASA, SULAWESI, INDONESIA  2021-12-26 15:01:31.1    0.07N   123.43E\n",
       "22               DOMINICAN REPUBLIC  2021-12-26 14:55:02.0   18.14N    71.50W\n",
       "23               DOMINICAN REPUBLIC  2021-12-26 14:50:55.0   18.13N    71.48W\n",
       "24                  COQUIMBO, CHILE  2021-12-26 14:43:05.0   29.52S    71.24W\n",
       "25                   CENTRAL TURKEY  2021-12-26 14:42:23.0   37.56N    34.92E\n",
       "26          NEAR COAST OF NICARAGUA  2021-12-26 14:26:36.0   12.29N    87.55W\n",
       "27     OFFSHORE NORTHERN CALIFORNIA  2021-12-26 14:16:49.4   40.33N   124.97W\n",
       "28         SOUTH OF JAVA, INDONESIA  2021-12-26 14:14:57.0    9.11S   112.05E\n",
       "29               CENTRAL CALIFORNIA  2021-12-26 14:09:50.6   36.50N   120.47W\n",
       "30                    CENTRAL ITALY  2021-12-26 14:09:38.3   43.09N    13.34E\n",
       "31      SOUTHERN SUMATRA, INDONESIA  2021-12-26 14:09:13.8    4.53S   102.05E\n",
       "32      OFFSHORE ANTOFAGASTA, CHILE  2021-12-26 14:01:01.0   21.24S    70.39W\n",
       "33                    WESTERN TEXAS  2021-12-26 13:58:29.8   31.72N   104.57W\n",
       "34               ANTOFAGASTA, CHILE  2021-12-26 13:42:20.0   23.86S    67.33W\n",
       "35      BONIN ISLANDS, JAPAN REGION  2021-12-26 13:41:00.7   28.01N   141.50E\n",
       "36      NEAR COAST OF NORTHERN PERU  2021-12-26 13:35:22.0    7.55S    79.74W\n",
       "37          HIMACHAL PRADESH, INDIA  2021-12-26 13:20:53.0   32.03N    76.84E\n",
       "38          NEAR COAST OF NICARAGUA  2021-12-26 13:12:10.0   12.60N    88.03W\n",
       "39                      PUERTO RICO  2021-12-26 12:51:43.6   17.99N    66.82W\n",
       "40               GULF OF CALIFORNIA  2021-12-26 12:51:14.0   29.98N   113.58W\n",
       "41                           FRANCE  2021-12-26 12:32:27.2   46.21N     6.72E\n",
       "42                   BIO-BIO, CHILE  2021-12-26 12:25:33.0   38.15S    73.44W\n",
       "43          NEAR COAST OF NICARAGUA  2021-12-26 12:16:48.0   11.74N    87.05W\n",
       "44     NEAR EAST COAST OF KAMCHATKA  2021-12-26 12:09:56.6   55.53N   161.67E\n",
       "45         ISLAND OF HAWAII, HAWAII  2021-12-26 12:04:49.4   19.21N   155.41W\n",
       "46                 SERAM, INDONESIA  2021-12-26 11:35:09.0    2.67S   129.44E\n",
       "47         FLORES REGION, INDONESIA  2021-12-26 11:25:38.0    8.99S   123.96E\n",
       "48                 SERAM, INDONESIA  2021-12-26 11:11:42.0    2.66S   129.42E\n",
       "49         ISLAND OF HAWAII, HAWAII  2021-12-26 11:00:54.6   19.25N   155.41W"
      ]
     },
     "execution_count": 438,
     "metadata": {},
     "output_type": "execute_result"
    }
   ],
   "source": [
    "x = soup.find_all('td', {\"class\":\"tabev1\"})\n",
    "\n",
    "latitude = []\n",
    "longitude = []\n",
    "\n",
    "for i in range(len(x)):\n",
    "    y = str(x[i]).split(\">\")\n",
    "    y = y[1].replace(\"\\xa0</td\", \"\")\n",
    "    if i % 2 != 0:\n",
    "        longitude.append(y)\n",
    "    else:\n",
    "        latitude.append(y)\n",
    "\n",
    "x = soup.find_all('td', {\"class\":\"tabev2\"})\n",
    "\n",
    "latLet = []\n",
    "longLet = []\n",
    "\n",
    "\n",
    "for j in range(0,len(x),3):\n",
    "    latLet.append((str(x[j]).split(\">\")[1].replace(\"\\xa0\\xa0</td\", \"\").replace(\"</td\", \"\")))\n",
    "\n",
    "for j in range(1,len(x),3):\n",
    "    longLet.append((str(x[j]).split(\">\")[1].replace(\"\\xa0\\xa0</td\", \"\").replace(\"</td\", \"\")))\n",
    "\n",
    "latFinal = []\n",
    "longFinal = []\n",
    "\n",
    "for k in range (len(latitude)):\n",
    "    latFinal.append(latitude[k] + latLet[k])\n",
    "    longFinal.append(longitude[k] + longLet[k])\n",
    "    \n",
    "x = soup.find_all('td', {\"class\":\"tabev6\"})\n",
    "\n",
    "dateTime = []\n",
    "\n",
    "for i in range(len(x)):\n",
    "    y = str(x[i]).split(\"</a>\")\n",
    "    y = str(x[i]).split(\">\")\n",
    "    y = y[5].replace(\"\\xa0\\xa0\\xa0\", \" \")\n",
    "    dateTime.append(y.replace(\"</a\", \"\"))\n",
    "    \n",
    "x = soup.find_all('td', {\"class\":\"tb_region\"})\n",
    "\n",
    "regionName = []\n",
    "\n",
    "for i in range(len(x)):\n",
    "    y = str(x[i]).split(\">\")\n",
    "    y = y[1].replace(\"\\xa0\", \"\")\n",
    "    regionName.append(y.replace(\"</td\", \"\"))\n",
    "\n",
    "    \n",
    "df = pd.DataFrame()\n",
    "df[\"Region\"] = regionName\n",
    "df[\"Date-Time\"] = dateTime\n",
    "df[\"Latitude\"] = latFinal\n",
    "df[\"Longitude\"] = longFinal\n",
    "\n",
    "df\n",
    "\n"
   ]
  },
  {
   "cell_type": "markdown",
   "metadata": {},
   "source": [
    "#### Count the number of tweets by a given Twitter account.\n",
    "Ask the user for the handle (@handle) of a twitter account. You will need to include a ***try/except block*** for account names not found. \n",
    "<br>***Hint:*** the program should count the number of tweets for any provided account. (How is this a hint?)"
   ]
  },
  {
   "cell_type": "code",
   "execution_count": 463,
   "metadata": {},
   "outputs": [],
   "source": [
    "# This is the url you will scrape in this exercise \n",
    "# You will need to add the account credentials to this url\n",
    "url = 'https://twitter.com/'\n",
    "user = \"NASA\"\n",
    "html = requests.get(url + user).content\n",
    "soup = BeautifulSoup(html, \"html.parser\")"
   ]
  },
  {
   "cell_type": "code",
   "execution_count": 466,
   "metadata": {},
   "outputs": [],
   "source": [
    "# your code here\n"
   ]
  },
  {
   "cell_type": "markdown",
   "metadata": {},
   "source": [
    "#### Number of followers of a given twitter account\n",
    "Ask the user for the handle (@handle) of a twitter account. You will need to include a ***try/except block*** for account names not found. \n",
    "<br>***Hint:*** the program should count the followers for any provided account."
   ]
  },
  {
   "cell_type": "code",
   "execution_count": null,
   "metadata": {},
   "outputs": [],
   "source": [
    "# This is the url you will scrape in this exercise \n",
    "# You will need to add the account credentials to this url\n",
    "url = 'https://twitter.com/'"
   ]
  },
  {
   "cell_type": "code",
   "execution_count": null,
   "metadata": {},
   "outputs": [],
   "source": [
    "# your code here"
   ]
  },
  {
   "cell_type": "markdown",
   "metadata": {},
   "source": [
    "#### List all language names and number of related articles in the order they appear in wikipedia.org."
   ]
  },
  {
   "cell_type": "code",
   "execution_count": 469,
   "metadata": {},
   "outputs": [],
   "source": [
    "# This is the url you will scrape in this exercise\n",
    "url = 'https://www.wikipedia.org/'\n",
    "html = requests.get(url).content\n",
    "soup = BeautifulSoup(html, \"html.parser\")"
   ]
  },
  {
   "cell_type": "code",
   "execution_count": 492,
   "metadata": {},
   "outputs": [
    {
     "data": {
      "text/plain": [
       "['English: 6 383 000+ articles',\n",
       " '日本語: 1 292 000+ articles',\n",
       " 'Русский: 1 756 000+ articles',\n",
       " 'Deutsch: 2 617 000+ articles',\n",
       " 'Español: 1 717 000+ articles',\n",
       " 'Français: 2 362 000+ articles',\n",
       " '中文: 1 231 000+ articles',\n",
       " 'Italiano: 1 718 000+ articles',\n",
       " 'Português: 1 074 000+ articles',\n",
       " 'Polski: 1 490 000+ articles']"
      ]
     },
     "execution_count": 492,
     "metadata": {},
     "output_type": "execute_result"
    }
   ],
   "source": [
    "# your code here\n",
    "x = soup.find_all('a', {\"class\":\"link-box\"})\n",
    "\n",
    "lst = []\n",
    "\n",
    "for i in range(len(x)):\n",
    "    lang = str(x[i]).split(\"<strong>\")\n",
    "    lang = lang[1].split(\"</strong>\")[0]\n",
    "    artc = str(x[i]).split('\"ltr\">')\n",
    "    artc = artc[1].split(\"</bdi>\")[0]\n",
    "    artc = artc.replace(\"\\xa0\", \" \")\n",
    "    lst.append(lang + \": \" + artc + \" articles\")\n",
    "    \n",
    "lst"
   ]
  },
  {
   "cell_type": "markdown",
   "metadata": {},
   "source": [
    "#### A list with the different kind of datasets available in data.gov.uk."
   ]
  },
  {
   "cell_type": "code",
   "execution_count": 495,
   "metadata": {},
   "outputs": [],
   "source": [
    "# This is the url you will scrape in this exercise\n",
    "url = 'https://data.gov.uk/'\n",
    "html = requests.get(url).content\n",
    "soup = BeautifulSoup(html, \"html.parser\")"
   ]
  },
  {
   "cell_type": "code",
   "execution_count": 508,
   "metadata": {},
   "outputs": [
    {
     "data": {
      "text/plain": [
       "['Business and economy',\n",
       " 'Crime and justice',\n",
       " 'Defence',\n",
       " 'Education',\n",
       " 'Environment',\n",
       " 'Government',\n",
       " 'Government spending',\n",
       " 'Health',\n",
       " 'Mapping',\n",
       " 'Society',\n",
       " 'Towns and cities',\n",
       " 'Transport',\n",
       " 'Digital service performance',\n",
       " 'Government reference data']"
      ]
     },
     "execution_count": 508,
     "metadata": {},
     "output_type": "execute_result"
    }
   ],
   "source": [
    "# your code here\n",
    "x = soup.find_all('a', {\"class\":\"govuk-link\"})\n",
    "lst = []\n",
    "for i in range(4, len(x)):\n",
    "    lst.append(str(x[i]).split(\">\")[1].replace(\"</a\", \"\"))\n",
    "lst\n"
   ]
  },
  {
   "cell_type": "markdown",
   "metadata": {},
   "source": [
    "#### Display the top 10 languages by number of native speakers stored in a pandas dataframe."
   ]
  },
  {
   "cell_type": "code",
   "execution_count": 509,
   "metadata": {},
   "outputs": [],
   "source": [
    "# This is the url you will scrape in this exercise\n",
    "url = 'https://en.wikipedia.org/wiki/List_of_languages_by_number_of_native_speakers'\n",
    "html = requests.get(url).content\n",
    "soup = BeautifulSoup(html, \"html.parser\")"
   ]
  },
  {
   "cell_type": "code",
   "execution_count": 545,
   "metadata": {},
   "outputs": [
    {
     "data": {
      "text/html": [
       "<div>\n",
       "<style scoped>\n",
       "    .dataframe tbody tr th:only-of-type {\n",
       "        vertical-align: middle;\n",
       "    }\n",
       "\n",
       "    .dataframe tbody tr th {\n",
       "        vertical-align: top;\n",
       "    }\n",
       "\n",
       "    .dataframe thead th {\n",
       "        text-align: right;\n",
       "    }\n",
       "</style>\n",
       "<table border=\"1\" class=\"dataframe\">\n",
       "  <thead>\n",
       "    <tr style=\"text-align: right;\">\n",
       "      <th></th>\n",
       "      <th>Languages</th>\n",
       "    </tr>\n",
       "  </thead>\n",
       "  <tbody>\n",
       "    <tr>\n",
       "      <th>0</th>\n",
       "      <td>Mandarin Chinese</td>\n",
       "    </tr>\n",
       "    <tr>\n",
       "      <th>1</th>\n",
       "      <td>Spanish</td>\n",
       "    </tr>\n",
       "    <tr>\n",
       "      <th>2</th>\n",
       "      <td>English</td>\n",
       "    </tr>\n",
       "    <tr>\n",
       "      <th>3</th>\n",
       "      <td>Hindi</td>\n",
       "    </tr>\n",
       "    <tr>\n",
       "      <th>4</th>\n",
       "      <td>Bengali</td>\n",
       "    </tr>\n",
       "    <tr>\n",
       "      <th>5</th>\n",
       "      <td>Portuguese</td>\n",
       "    </tr>\n",
       "    <tr>\n",
       "      <th>6</th>\n",
       "      <td>Russian</td>\n",
       "    </tr>\n",
       "    <tr>\n",
       "      <th>7</th>\n",
       "      <td>Japanese</td>\n",
       "    </tr>\n",
       "    <tr>\n",
       "      <th>8</th>\n",
       "      <td>Western Punjabi</td>\n",
       "    </tr>\n",
       "    <tr>\n",
       "      <th>9</th>\n",
       "      <td>Marathi</td>\n",
       "    </tr>\n",
       "  </tbody>\n",
       "</table>\n",
       "</div>"
      ],
      "text/plain": [
       "          Languages\n",
       "0  Mandarin Chinese\n",
       "1           Spanish\n",
       "2           English\n",
       "3             Hindi\n",
       "4           Bengali\n",
       "5        Portuguese\n",
       "6           Russian\n",
       "7          Japanese\n",
       "8   Western Punjabi\n",
       "9           Marathi"
      ]
     },
     "execution_count": 545,
     "metadata": {},
     "output_type": "execute_result"
    }
   ],
   "source": [
    "# your code here\n",
    "x = soup.find_all('td')\n",
    "langs = []\n",
    "for i in range(3, 60, 6):\n",
    "    y = str(x[i]).split(\">\")[2]\n",
    "    langs.append(y.replace(\"</a\", \"\"))\n",
    "\n",
    "df = pd.DataFrame()\n",
    "df[\"Languages\"] = langs\n",
    "df\n"
   ]
  },
  {
   "cell_type": "markdown",
   "metadata": {},
   "source": [
    "## Bonus\n",
    "#### Scrape a certain number of tweets of a given Twitter account."
   ]
  },
  {
   "cell_type": "code",
   "execution_count": null,
   "metadata": {},
   "outputs": [],
   "source": [
    "# This is the url you will scrape in this exercise \n",
    "# You will need to add the account credentials to this url\n",
    "url = 'https://twitter.com/'"
   ]
  },
  {
   "cell_type": "code",
   "execution_count": null,
   "metadata": {},
   "outputs": [],
   "source": [
    "# your code here"
   ]
  },
  {
   "cell_type": "markdown",
   "metadata": {},
   "source": [
    "#### Display IMDB's top 250 data (movie name, initial release, director name and stars) as a pandas dataframe."
   ]
  },
  {
   "cell_type": "code",
   "execution_count": null,
   "metadata": {},
   "outputs": [],
   "source": [
    "# This is the url you will scrape in this exercise \n",
    "url = 'https://www.imdb.com/chart/top'"
   ]
  },
  {
   "cell_type": "code",
   "execution_count": null,
   "metadata": {},
   "outputs": [],
   "source": [
    "# your code here"
   ]
  },
  {
   "cell_type": "markdown",
   "metadata": {},
   "source": [
    "#### Display the movie name, year and a brief summary of the top 10 random movies (IMDB) as a pandas dataframe."
   ]
  },
  {
   "cell_type": "code",
   "execution_count": null,
   "metadata": {},
   "outputs": [],
   "source": [
    "#This is the url you will scrape in this exercise\n",
    "url = 'http://www.imdb.com/chart/top'"
   ]
  },
  {
   "cell_type": "code",
   "execution_count": null,
   "metadata": {},
   "outputs": [],
   "source": [
    "# your code here"
   ]
  },
  {
   "cell_type": "markdown",
   "metadata": {},
   "source": [
    "#### Find the live weather report (temperature, wind speed, description and weather) of a given city."
   ]
  },
  {
   "cell_type": "code",
   "execution_count": null,
   "metadata": {},
   "outputs": [],
   "source": [
    "#https://openweathermap.org/current\n",
    "city = input('Enter the city: ')\n",
    "url = 'http://api.openweathermap.org/data/2.5/weather?'+'q='+city+'&APPID=b35975e18dc93725acb092f7272cc6b8&units=metric'"
   ]
  },
  {
   "cell_type": "code",
   "execution_count": null,
   "metadata": {},
   "outputs": [],
   "source": [
    "# your code here"
   ]
  },
  {
   "cell_type": "markdown",
   "metadata": {},
   "source": [
    "#### Find the book name, price and stock availability as a pandas dataframe."
   ]
  },
  {
   "cell_type": "code",
   "execution_count": null,
   "metadata": {},
   "outputs": [],
   "source": [
    "# This is the url you will scrape in this exercise. \n",
    "# It is a fictional bookstore created to be scraped. \n",
    "url = 'http://books.toscrape.com/'"
   ]
  },
  {
   "cell_type": "code",
   "execution_count": null,
   "metadata": {},
   "outputs": [],
   "source": [
    "# your code here"
   ]
  }
 ],
 "metadata": {
  "kernelspec": {
   "display_name": "Python 3 (ipykernel)",
   "language": "python",
   "name": "python3"
  },
  "language_info": {
   "codemirror_mode": {
    "name": "ipython",
    "version": 3
   },
   "file_extension": ".py",
   "mimetype": "text/x-python",
   "name": "python",
   "nbconvert_exporter": "python",
   "pygments_lexer": "ipython3",
   "version": "3.9.7"
  }
 },
 "nbformat": 4,
 "nbformat_minor": 2
}
