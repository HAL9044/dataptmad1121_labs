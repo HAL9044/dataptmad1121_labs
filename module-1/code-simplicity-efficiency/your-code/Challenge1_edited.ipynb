{
 "cells": [
  {
   "cell_type": "code",
   "execution_count": 37,
   "id": "86200212",
   "metadata": {},
   "outputs": [
    {
     "name": "stdout",
     "output_type": "stream",
     "text": [
      "Welcome to this calculator!\n",
      "It can add and subtract whole numbers from zero to five\n",
      "Please choose your first number (zero to five): four\n",
      "What do you want to do? plus or minus: minus\n",
      "Please choose your second number (zero to five): two\n",
      "four minus two equals two\n",
      "Thanks for using this calculator, goodbye :)\n"
     ]
    }
   ],
   "source": [
    "print('Welcome to this calculator!')\n",
    "print('It can add and subtract whole numbers from zero to five')\n",
    "a = input('Please choose your first number (zero to five): ')\n",
    "b = input('What do you want to do? plus or minus: ')\n",
    "c = input('Please choose your second number (zero to five): ')\n",
    "\n",
    "numlist = ['zero', 'one', 'two', 'three', 'four', 'five', 'six', 'seven', 'eight', 'nine', 'ten']\n",
    "operation = ['plus', 'minus']\n",
    "\n",
    "if a not in numlist or c not in numlist or b not in operation:\n",
    "    print(\"I am not able to answer this question. Check your input.\")\n",
    "    \n",
    "else:\n",
    "    a = numlist.index(a)\n",
    "    c = numlist.index(c)\n",
    "\n",
    "    if b == 'plus':\n",
    "        result = int(a) + int(c)\n",
    "        result = numlist[result]\n",
    "        print (numlist[a] + \" \" + b + \" \"+ numlist[c] + \" equals \" + str(result))\n",
    "\n",
    "    elif b == 'minus':\n",
    "        intnum = int(a) - int(c)\n",
    "\n",
    "        if intnum < 0:\n",
    "            intnum = intnum * -1\n",
    "            result = numlist[intnum]\n",
    "            print (numlist[a] + \" \" + b + \" \"+ numlist[c] + \" equals negative \" + str(result))\n",
    "\n",
    "        else:\n",
    "            result = numlist[intnum]\n",
    "            print (numlist[a] + \" \" + b + \" \"+ numlist[c] + \" equals \" + str(result))\n",
    "        \n",
    "print(\"Thanks for using this calculator, goodbye :)\")"
   ]
  },
  {
   "cell_type": "code",
   "execution_count": null,
   "id": "61dea0cc",
   "metadata": {},
   "outputs": [],
   "source": []
  },
  {
   "cell_type": "code",
   "execution_count": null,
   "id": "d20d5ebf",
   "metadata": {},
   "outputs": [],
   "source": []
  }
 ],
 "metadata": {
  "kernelspec": {
   "display_name": "Python 3 (ipykernel)",
   "language": "python",
   "name": "python3"
  },
  "language_info": {
   "codemirror_mode": {
    "name": "ipython",
    "version": 3
   },
   "file_extension": ".py",
   "mimetype": "text/x-python",
   "name": "python",
   "nbconvert_exporter": "python",
   "pygments_lexer": "ipython3",
   "version": "3.7.11"
  }
 },
 "nbformat": 4,
 "nbformat_minor": 5
}
