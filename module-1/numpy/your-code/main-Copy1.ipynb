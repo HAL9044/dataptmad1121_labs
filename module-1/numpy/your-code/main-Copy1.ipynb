{
 "cells": [
  {
   "cell_type": "markdown",
   "metadata": {},
   "source": [
    "# Introduction to NumPy\n",
    "\n",
    "\n",
    "#### 1. Import NumPy under the name np."
   ]
  },
  {
   "cell_type": "code",
   "execution_count": 2,
   "metadata": {},
   "outputs": [],
   "source": [
    "# your code here\n",
    "import numpy as np"
   ]
  },
  {
   "cell_type": "markdown",
   "metadata": {},
   "source": [
    "#### 2. Print your NumPy version."
   ]
  },
  {
   "cell_type": "code",
   "execution_count": 3,
   "metadata": {},
   "outputs": [
    {
     "name": "stdout",
     "output_type": "stream",
     "text": [
      "1.20.2\n"
     ]
    }
   ],
   "source": [
    "# your code here\n",
    "print (np.version.version)"
   ]
  },
  {
   "cell_type": "markdown",
   "metadata": {},
   "source": [
    "#### 3. Generate a 2x3x5 3-dimensional array with random values. Assign the array to variable *a*.\n",
    "**Challenge**: there are at least three easy ways that use numpy to generate random arrays. How many ways can you find?"
   ]
  },
  {
   "cell_type": "code",
   "execution_count": 4,
   "metadata": {},
   "outputs": [
    {
     "name": "stdout",
     "output_type": "stream",
     "text": [
      "[[[0.12398753 0.00675229 0.94077661 0.53663567 0.96615587]\n",
      "  [0.3594862  0.86689429 0.8247102  0.05523766 0.31873767]\n",
      "  [0.81000865 0.37099742 0.67818087 0.99512194 0.02598718]]\n",
      "\n",
      " [[0.76481384 0.38826723 0.86609485 0.5357248  0.28930693]\n",
      "  [0.9614996  0.16673752 0.07233747 0.90396431 0.57013355]\n",
      "  [0.36689424 0.17275972 0.84881352 0.42189374 0.42013104]]]\n"
     ]
    }
   ],
   "source": [
    "# Method 1\n",
    "a = np.random.random((2,3,5))\n",
    "print(a)"
   ]
  },
  {
   "cell_type": "code",
   "execution_count": 5,
   "metadata": {},
   "outputs": [
    {
     "name": "stdout",
     "output_type": "stream",
     "text": [
      "[[[14 62 18 14 57]\n",
      "  [ 1 75 70 87 32]\n",
      "  [34 55 94 95 23]]\n",
      "\n",
      " [[92 82 22 31  0]\n",
      "  [56 97 96 47 68]\n",
      "  [39 67 19 11 57]]]\n"
     ]
    }
   ],
   "source": [
    "# Method 2\n",
    "a = np.random.randint(0,100,(2,3,5))\n",
    "print(a)"
   ]
  },
  {
   "cell_type": "code",
   "execution_count": 15,
   "metadata": {},
   "outputs": [
    {
     "name": "stdout",
     "output_type": "stream",
     "text": [
      "[[[-0.24871494  1.04620799 -0.08223207 -0.93367388  1.7074926 ]\n",
      "  [ 1.80768543 -0.52855333 -1.24730164  1.18305522 -0.86826338]\n",
      "  [-0.21597101 -0.51052825  0.60534531 -0.50157887  1.3305003 ]]\n",
      "\n",
      " [[-2.1693289   1.68518174 -0.0044509  -0.2273126   1.71740729]\n",
      "  [ 0.47955267  0.94690226  1.74769745 -0.67524247  1.1401866 ]\n",
      "  [-1.14089256 -0.98943147  0.66057259  1.68687025 -1.47884507]]]\n"
     ]
    }
   ],
   "source": [
    "# Method 3\n",
    "a = np.random.randn(2,3,5)\n",
    "print(a)"
   ]
  },
  {
   "cell_type": "markdown",
   "metadata": {},
   "source": [
    "#### 4. Print *a*.\n"
   ]
  },
  {
   "cell_type": "code",
   "execution_count": 16,
   "metadata": {},
   "outputs": [
    {
     "name": "stdout",
     "output_type": "stream",
     "text": [
      "[[[-0.24871494  1.04620799 -0.08223207 -0.93367388  1.7074926 ]\n",
      "  [ 1.80768543 -0.52855333 -1.24730164  1.18305522 -0.86826338]\n",
      "  [-0.21597101 -0.51052825  0.60534531 -0.50157887  1.3305003 ]]\n",
      "\n",
      " [[-2.1693289   1.68518174 -0.0044509  -0.2273126   1.71740729]\n",
      "  [ 0.47955267  0.94690226  1.74769745 -0.67524247  1.1401866 ]\n",
      "  [-1.14089256 -0.98943147  0.66057259  1.68687025 -1.47884507]]]\n"
     ]
    }
   ],
   "source": [
    "# your code here\n",
    "print(a)"
   ]
  },
  {
   "cell_type": "markdown",
   "metadata": {},
   "source": [
    "#### 5. Create a 5x2x3 3-dimensional array with all values equaling 1. Assign the array to variable *b*."
   ]
  },
  {
   "cell_type": "code",
   "execution_count": 17,
   "metadata": {},
   "outputs": [],
   "source": [
    "# your code here\n",
    "b = np.ones((5,2,3))"
   ]
  },
  {
   "cell_type": "markdown",
   "metadata": {},
   "source": [
    "#### 6. Print *b*.\n"
   ]
  },
  {
   "cell_type": "code",
   "execution_count": 18,
   "metadata": {},
   "outputs": [
    {
     "name": "stdout",
     "output_type": "stream",
     "text": [
      "[[[1. 1. 1.]\n",
      "  [1. 1. 1.]]\n",
      "\n",
      " [[1. 1. 1.]\n",
      "  [1. 1. 1.]]\n",
      "\n",
      " [[1. 1. 1.]\n",
      "  [1. 1. 1.]]\n",
      "\n",
      " [[1. 1. 1.]\n",
      "  [1. 1. 1.]]\n",
      "\n",
      " [[1. 1. 1.]\n",
      "  [1. 1. 1.]]]\n"
     ]
    }
   ],
   "source": [
    "# your code here\n",
    "print(b)"
   ]
  },
  {
   "cell_type": "markdown",
   "metadata": {},
   "source": [
    "#### 7. Do *a* and *b* have the same size? How do you prove that in Python code?"
   ]
  },
  {
   "cell_type": "code",
   "execution_count": 19,
   "metadata": {},
   "outputs": [
    {
     "name": "stdout",
     "output_type": "stream",
     "text": [
      "True\n"
     ]
    }
   ],
   "source": [
    "# your code here\n",
    "if a.size == b.size:\n",
    "    print (\"True\")\n"
   ]
  },
  {
   "cell_type": "markdown",
   "metadata": {},
   "source": [
    "#### 8. Are you able to add *a* and *b*? Why or why not?\n"
   ]
  },
  {
   "cell_type": "code",
   "execution_count": 20,
   "metadata": {},
   "outputs": [],
   "source": [
    "# your answer here\n",
    "#No, cause they have different shapes and it wouldnt make any mathematical sense to sum them up."
   ]
  },
  {
   "cell_type": "markdown",
   "metadata": {},
   "source": [
    "#### 9. Transpose *b* so that it has the same structure of *a* (i.e. become a 2x3x5 array). Assign the transposed array to variable *c*."
   ]
  },
  {
   "cell_type": "code",
   "execution_count": 21,
   "metadata": {},
   "outputs": [],
   "source": [
    "# your code here\n",
    "b = np.reshape(b, (2,3,5))"
   ]
  },
  {
   "cell_type": "markdown",
   "metadata": {},
   "source": [
    "#### 10. Try to add *a* and *c*. Now it should work. Assign the sum to variable *d*. But why does it work now?"
   ]
  },
  {
   "cell_type": "code",
   "execution_count": 22,
   "metadata": {},
   "outputs": [
    {
     "name": "stdout",
     "output_type": "stream",
     "text": [
      "[[[ 0.75128506  2.04620799  0.91776793  0.06632612  2.7074926 ]\n",
      "  [ 2.80768543  0.47144667 -0.24730164  2.18305522  0.13173662]\n",
      "  [ 0.78402899  0.48947175  1.60534531  0.49842113  2.3305003 ]]\n",
      "\n",
      " [[-1.1693289   2.68518174  0.9955491   0.7726874   2.71740729]\n",
      "  [ 1.47955267  1.94690226  2.74769745  0.32475753  2.1401866 ]\n",
      "  [-0.14089256  0.01056853  1.66057259  2.68687025 -0.47884507]]]\n"
     ]
    }
   ],
   "source": [
    "# your code/answer here\n",
    "d = (np.add(a,b))\n",
    "print(d)"
   ]
  },
  {
   "cell_type": "markdown",
   "metadata": {},
   "source": [
    "#### 11. Print *a* and *d*. Notice the difference and relation of the two array in terms of the values? Explain."
   ]
  },
  {
   "cell_type": "code",
   "execution_count": 23,
   "metadata": {},
   "outputs": [
    {
     "name": "stdout",
     "output_type": "stream",
     "text": [
      "[[[-0.24871494  1.04620799 -0.08223207 -0.93367388  1.7074926 ]\n",
      "  [ 1.80768543 -0.52855333 -1.24730164  1.18305522 -0.86826338]\n",
      "  [-0.21597101 -0.51052825  0.60534531 -0.50157887  1.3305003 ]]\n",
      "\n",
      " [[-2.1693289   1.68518174 -0.0044509  -0.2273126   1.71740729]\n",
      "  [ 0.47955267  0.94690226  1.74769745 -0.67524247  1.1401866 ]\n",
      "  [-1.14089256 -0.98943147  0.66057259  1.68687025 -1.47884507]]] [[[1. 1. 1. 1. 1.]\n",
      "  [1. 1. 1. 1. 1.]\n",
      "  [1. 1. 1. 1. 1.]]\n",
      "\n",
      " [[1. 1. 1. 1. 1.]\n",
      "  [1. 1. 1. 1. 1.]\n",
      "  [1. 1. 1. 1. 1.]]]\n"
     ]
    }
   ],
   "source": [
    "# your code/answer here\n",
    "print(a,b)\n",
    "#explain what"
   ]
  },
  {
   "cell_type": "markdown",
   "metadata": {},
   "source": [
    "#### 12. Multiply *a* and *c*. Assign the result to *e*."
   ]
  },
  {
   "cell_type": "code",
   "execution_count": 24,
   "metadata": {},
   "outputs": [
    {
     "name": "stdout",
     "output_type": "stream",
     "text": [
      "[[[-0.24871494  1.04620799 -0.08223207 -0.93367388  1.7074926 ]\n",
      "  [ 1.80768543 -0.52855333 -1.24730164  1.18305522 -0.86826338]\n",
      "  [-0.21597101 -0.51052825  0.60534531 -0.50157887  1.3305003 ]]\n",
      "\n",
      " [[-2.1693289   1.68518174 -0.0044509  -0.2273126   1.71740729]\n",
      "  [ 0.47955267  0.94690226  1.74769745 -0.67524247  1.1401866 ]\n",
      "  [-1.14089256 -0.98943147  0.66057259  1.68687025 -1.47884507]]]\n"
     ]
    }
   ],
   "source": [
    "# your code here\n",
    "e = np.multiply(a,b)\n",
    "print(e)"
   ]
  },
  {
   "cell_type": "markdown",
   "metadata": {},
   "source": [
    "#### 13. Does *e* equal to *a*? Why or why not?\n"
   ]
  },
  {
   "cell_type": "code",
   "execution_count": 25,
   "metadata": {},
   "outputs": [],
   "source": [
    "# your code/answer here\n",
    "#I just multiplied them by one"
   ]
  },
  {
   "cell_type": "markdown",
   "metadata": {},
   "source": [
    "#### 14. Identify the max, min, and mean values in *d*. Assign those values to variables *d_max*, *d_min* and *d_mean*."
   ]
  },
  {
   "cell_type": "code",
   "execution_count": 26,
   "metadata": {},
   "outputs": [
    {
     "name": "stdout",
     "output_type": "stream",
     "text": [
      "1.1974112123141905 2.8076854253687755 -1.1693288953921095\n"
     ]
    }
   ],
   "source": [
    "# your code here\n",
    "d_mean = np.mean(d)\n",
    "d_min = np.min(d)\n",
    "d_max = np.max(d)\n",
    "print(d_mean, d_max, d_min)"
   ]
  },
  {
   "cell_type": "markdown",
   "metadata": {},
   "source": [
    "#### 15. Now we want to label the values in *d*. First create an empty array *f* with the same shape (i.e. 2x3x5) as *d* using `np.empty`.\n"
   ]
  },
  {
   "cell_type": "code",
   "execution_count": 27,
   "metadata": {},
   "outputs": [],
   "source": [
    "# your code here\n",
    "f = np.empty((2,3,5))"
   ]
  },
  {
   "cell_type": "markdown",
   "metadata": {},
   "source": [
    "#### 16. Populate the values in *f*. \n",
    "\n",
    "For each value in *d*, if it's larger than *d_min* but smaller than *d_mean*, assign 25 to the corresponding value in *f*. If a value in *d* is larger than *d_mean* but smaller than *d_max*, assign 75 to the corresponding value in *f*. If a value equals to *d_mean*, assign 50 to the corresponding value in *f*. Assign 0 to the corresponding value(s) in *f* for *d_min* in *d*. Assign 100 to the corresponding value(s) in *f* for *d_max* in *d*. In the end, f should have only the following values: 0, 25, 50, 75, and 100.\n",
    "\n",
    "**Note**: you don't have to use Numpy in this question."
   ]
  },
  {
   "cell_type": "code",
   "execution_count": 49,
   "metadata": {},
   "outputs": [
    {
     "name": "stdout",
     "output_type": "stream",
     "text": [
      "[[[ 25  75  25  25  75]\n",
      "  [100  25  25  75  25]\n",
      "  [ 25  25  75  25  75]]\n",
      "\n",
      " [[  0  75  25  25  75]\n",
      "  [ 75  75  75  25  75]\n",
      "  [ 25  25  75  75  25]]]\n"
     ]
    }
   ],
   "source": [
    "# your code here\n",
    "lst = []\n",
    "for i in np.nditer(d):\n",
    "            if i > d_min and i < d_mean:\n",
    "                lst.append(25)\n",
    "            elif i > d_mean and i < d_max:\n",
    "                lst.append(75)\n",
    "            elif i == d_mean:\n",
    "                lst.append(50)\n",
    "            elif i == d_min:\n",
    "                lst.append(0)\n",
    "            elif i == d_max:\n",
    "                lst.append(100)  \n",
    "\n",
    "lst = np.reshape(lst, (2,3,5))\n",
    "print(lst)"
   ]
  },
  {
   "cell_type": "markdown",
   "metadata": {},
   "source": [
    "#### 17. Print *d* and *f*. Do you have your expected *f*?\n",
    "For instance, if your *d* is:\n",
    "```python\n",
    "[[[1.85836099, 1.67064465, 1.62576044, 1.40243961, 1.88454931],\n",
    "[1.75354326, 1.69403643, 1.36729252, 1.61415071, 1.12104981],\n",
    "[1.72201435, 1.1862918 , 1.87078449, 1.7726778 , 1.88180042]],\n",
    "[[1.44747908, 1.31673383, 1.02000951, 1.52218947, 1.97066381],\n",
    "[1.79129243, 1.74983003, 1.96028037, 1.85166831, 1.65450881],\n",
    "[1.18068344, 1.9587381 , 1.00656599, 1.93402165, 1.73514584]]]\n",
    "```\n",
    "Your *f* should be:\n",
    "```python\n",
    "[[[ 75.,  75.,  75.,  25.,  75.],\n",
    "[ 75.,  75.,  25.,  25.,  25.],\n",
    "[ 75.,  25.,  75.,  75.,  75.]],\n",
    "[[ 25.,  25.,  25.,  25., 100.],\n",
    "[ 75.,  75.,  75.,  75.,  75.],\n",
    "[ 25.,  75.,   0.,  75.,  75.]]]\n",
    "```"
   ]
  },
  {
   "cell_type": "code",
   "execution_count": 50,
   "metadata": {},
   "outputs": [
    {
     "name": "stdout",
     "output_type": "stream",
     "text": [
      "[[['B' 'D' 'B' 'B' 'D']\n",
      "  ['E' 'B' 'B' 'D' 'B']\n",
      "  ['B' 'B' 'D' 'B' 'D']]\n",
      "\n",
      " [['A' 'D' 'B' 'B' 'D']\n",
      "  ['D' 'D' 'D' 'B' 'D']\n",
      "  ['B' 'B' 'D' 'D' 'B']]]\n"
     ]
    }
   ],
   "source": [
    "lst = []\n",
    "for i in np.nditer(d):\n",
    "            if i > d_min and i < d_mean:\n",
    "                lst.append(\"B\")\n",
    "            elif i > d_mean and i < d_max:\n",
    "                lst.append(\"D\")\n",
    "            elif i == d_mean:\n",
    "                lst.append(\"C\")\n",
    "            elif i == d_min:\n",
    "                lst.append(\"A\")\n",
    "            elif i == d_max:\n",
    "                lst.append(\"E\")  \n",
    "\n",
    "lst = np.reshape(lst, (2,3,5))\n",
    "print(lst)"
   ]
  },
  {
   "cell_type": "markdown",
   "metadata": {},
   "source": [
    "#### 18. Bonus question: instead of using numbers (i.e. 0, 25, 50, 75, and 100), use string values  (\"A\", \"B\", \"C\", \"D\", and \"E\") to label the array elements. For the example above, the expected result is:\n",
    "\n",
    "```python\n",
    "[[[ 'D',  'D',  'D',  'B',  'D'],\n",
    "[ 'D',  'D',  'B',  'B',  'B'],\n",
    "[ 'D',  'B',  'D',  'D',  'D']],\n",
    "[[ 'B',  'B',  'B',  'B',  'E'],\n",
    "[ 'D',  'D',  'D',  'D',  'D'],\n",
    "[ 'B',  'D',   'A',  'D', 'D']]]\n",
    "```\n",
    "**Note**: you don't have to use Numpy in this question."
   ]
  },
  {
   "cell_type": "code",
   "execution_count": null,
   "metadata": {},
   "outputs": [],
   "source": [
    "# your code here"
   ]
  }
 ],
 "metadata": {
  "kernelspec": {
   "display_name": "Python [conda env:jp_env]",
   "language": "python",
   "name": "conda-env-jp_env-py"
  },
  "language_info": {
   "codemirror_mode": {
    "name": "ipython",
    "version": 3
   },
   "file_extension": ".py",
   "mimetype": "text/x-python",
   "name": "python",
   "nbconvert_exporter": "python",
   "pygments_lexer": "ipython3",
   "version": "3.8.5"
  }
 },
 "nbformat": 4,
 "nbformat_minor": 2
}
